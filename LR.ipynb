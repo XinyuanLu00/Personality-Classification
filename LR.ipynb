{
 "cells": [
  {
   "cell_type": "markdown",
   "metadata": {},
   "source": [
    "# LR for Personality Prediction"
   ]
  },
  {
   "cell_type": "markdown",
   "metadata": {},
   "source": [
    "## 1. Raw data processing"
   ]
  },
  {
   "cell_type": "code",
   "execution_count": 73,
   "metadata": {},
   "outputs": [],
   "source": [
    "import pandas as pd\n",
    "import json\n",
    "import numpy as np\n",
    "from matplotlib import pyplot as plt\n",
    "import math\n",
    "import seaborn as sns\n",
    "plt.rcParams['axes.unicode_minus']=False "
   ]
  },
  {
   "cell_type": "code",
   "execution_count": 74,
   "metadata": {},
   "outputs": [],
   "source": [
    "data = []\n",
    "with open('All_Beauty_5.json', 'r') as r:\n",
    "    for line in r.readlines():\n",
    "        data.append(json.loads(line.strip()))"
   ]
  },
  {
   "cell_type": "code",
   "execution_count": 75,
   "metadata": {},
   "outputs": [
    {
     "data": {
      "text/plain": [
       "{'overall': 5.0,\n",
       " 'verified': True,\n",
       " 'reviewTime': '09 1, 2016',\n",
       " 'reviewerID': 'A3CIUOJXQ5VDQ2',\n",
       " 'asin': 'B0000530HU',\n",
       " 'style': {'Size:': ' 7.0 oz', 'Flavor:': ' Classic Ice Blue'},\n",
       " 'reviewerName': 'Shelly F',\n",
       " 'reviewText': 'As advertised. Reasonably priced',\n",
       " 'summary': 'Five Stars',\n",
       " 'unixReviewTime': 1472688000}"
      ]
     },
     "execution_count": 75,
     "metadata": {},
     "output_type": "execute_result"
    }
   ],
   "source": [
    "data[0]"
   ]
  },
  {
   "cell_type": "code",
   "execution_count": 76,
   "metadata": {},
   "outputs": [],
   "source": [
    "# analyse how many users\n",
    "users = set()\n",
    "for d in data:\n",
    "    users.add(d['reviewerID'])\n",
    "    \n",
    "user_action = {}\n",
    "for meta in data:\n",
    "    if 'reviewText' in meta.keys():\n",
    "        try:\n",
    "            user_action[meta['reviewerID']] += ' ' + meta['reviewText']\n",
    "        except:\n",
    "            user_action[meta['reviewerID']] = meta['reviewText']"
   ]
  },
  {
   "cell_type": "code",
   "execution_count": 77,
   "metadata": {},
   "outputs": [
    {
     "data": {
      "text/html": [
       "<div>\n",
       "<style scoped>\n",
       "    .dataframe tbody tr th:only-of-type {\n",
       "        vertical-align: middle;\n",
       "    }\n",
       "\n",
       "    .dataframe tbody tr th {\n",
       "        vertical-align: top;\n",
       "    }\n",
       "\n",
       "    .dataframe thead th {\n",
       "        text-align: right;\n",
       "    }\n",
       "</style>\n",
       "<table border=\"1\" class=\"dataframe\">\n",
       "  <thead>\n",
       "    <tr style=\"text-align: right;\">\n",
       "      <th></th>\n",
       "      <th>field0</th>\n",
       "      <th>personality.agreeableness</th>\n",
       "      <th>personality.conscientiousness</th>\n",
       "      <th>personality.neuroticism</th>\n",
       "      <th>personality.extraversion</th>\n",
       "      <th>personality.openness</th>\n",
       "    </tr>\n",
       "  </thead>\n",
       "  <tbody>\n",
       "    <tr>\n",
       "      <th>0</th>\n",
       "      <td>A3CIUOJXQ5VDQ2</td>\n",
       "      <td>44.347317</td>\n",
       "      <td>28.418990</td>\n",
       "      <td>29.275841</td>\n",
       "      <td>39.493122</td>\n",
       "      <td>47.044458</td>\n",
       "    </tr>\n",
       "    <tr>\n",
       "      <th>1</th>\n",
       "      <td>A3H7T87S984REU</td>\n",
       "      <td>43.284159</td>\n",
       "      <td>30.120131</td>\n",
       "      <td>49.090500</td>\n",
       "      <td>44.788948</td>\n",
       "      <td>52.152907</td>\n",
       "    </tr>\n",
       "    <tr>\n",
       "      <th>2</th>\n",
       "      <td>A3J034YH7UG4KT</td>\n",
       "      <td>40.891697</td>\n",
       "      <td>32.660445</td>\n",
       "      <td>43.042456</td>\n",
       "      <td>32.509192</td>\n",
       "      <td>41.781220</td>\n",
       "    </tr>\n",
       "    <tr>\n",
       "      <th>3</th>\n",
       "      <td>A2UEO5XR3598GI</td>\n",
       "      <td>43.600214</td>\n",
       "      <td>48.913874</td>\n",
       "      <td>44.971834</td>\n",
       "      <td>38.407837</td>\n",
       "      <td>48.452678</td>\n",
       "    </tr>\n",
       "    <tr>\n",
       "      <th>4</th>\n",
       "      <td>A3SFRT223XXWF7</td>\n",
       "      <td>45.393149</td>\n",
       "      <td>48.234687</td>\n",
       "      <td>48.691462</td>\n",
       "      <td>53.320646</td>\n",
       "      <td>50.918121</td>\n",
       "    </tr>\n",
       "    <tr>\n",
       "      <th>...</th>\n",
       "      <td>...</td>\n",
       "      <td>...</td>\n",
       "      <td>...</td>\n",
       "      <td>...</td>\n",
       "      <td>...</td>\n",
       "      <td>...</td>\n",
       "    </tr>\n",
       "    <tr>\n",
       "      <th>985</th>\n",
       "      <td>A1210QJT54O8T0</td>\n",
       "      <td>67.843343</td>\n",
       "      <td>62.300669</td>\n",
       "      <td>45.770167</td>\n",
       "      <td>59.873719</td>\n",
       "      <td>51.591437</td>\n",
       "    </tr>\n",
       "    <tr>\n",
       "      <th>986</th>\n",
       "      <td>A2UEIN7SIPZFRP</td>\n",
       "      <td>64.129326</td>\n",
       "      <td>48.286311</td>\n",
       "      <td>40.899663</td>\n",
       "      <td>59.844976</td>\n",
       "      <td>52.869251</td>\n",
       "    </tr>\n",
       "    <tr>\n",
       "      <th>987</th>\n",
       "      <td>A3NFZN1GS1RKR9</td>\n",
       "      <td>54.747388</td>\n",
       "      <td>49.374668</td>\n",
       "      <td>35.771254</td>\n",
       "      <td>59.199041</td>\n",
       "      <td>46.393965</td>\n",
       "    </tr>\n",
       "    <tr>\n",
       "      <th>988</th>\n",
       "      <td>AUX122XW8ONG6</td>\n",
       "      <td>67.925456</td>\n",
       "      <td>64.702857</td>\n",
       "      <td>40.155536</td>\n",
       "      <td>62.045575</td>\n",
       "      <td>51.167200</td>\n",
       "    </tr>\n",
       "    <tr>\n",
       "      <th>989</th>\n",
       "      <td>A11QGZ39A7ZF0X</td>\n",
       "      <td>65.391868</td>\n",
       "      <td>47.618915</td>\n",
       "      <td>40.175904</td>\n",
       "      <td>61.023565</td>\n",
       "      <td>51.788033</td>\n",
       "    </tr>\n",
       "  </tbody>\n",
       "</table>\n",
       "<p>990 rows × 6 columns</p>\n",
       "</div>"
      ],
      "text/plain": [
       "             field0  personality.agreeableness  personality.conscientiousness  \\\n",
       "0    A3CIUOJXQ5VDQ2                  44.347317                      28.418990   \n",
       "1    A3H7T87S984REU                  43.284159                      30.120131   \n",
       "2    A3J034YH7UG4KT                  40.891697                      32.660445   \n",
       "3    A2UEO5XR3598GI                  43.600214                      48.913874   \n",
       "4    A3SFRT223XXWF7                  45.393149                      48.234687   \n",
       "..              ...                        ...                            ...   \n",
       "985  A1210QJT54O8T0                  67.843343                      62.300669   \n",
       "986  A2UEIN7SIPZFRP                  64.129326                      48.286311   \n",
       "987  A3NFZN1GS1RKR9                  54.747388                      49.374668   \n",
       "988   AUX122XW8ONG6                  67.925456                      64.702857   \n",
       "989  A11QGZ39A7ZF0X                  65.391868                      47.618915   \n",
       "\n",
       "     personality.neuroticism  personality.extraversion  personality.openness  \n",
       "0                  29.275841                 39.493122             47.044458  \n",
       "1                  49.090500                 44.788948             52.152907  \n",
       "2                  43.042456                 32.509192             41.781220  \n",
       "3                  44.971834                 38.407837             48.452678  \n",
       "4                  48.691462                 53.320646             50.918121  \n",
       "..                       ...                       ...                   ...  \n",
       "985                45.770167                 59.873719             51.591437  \n",
       "986                40.899663                 59.844976             52.869251  \n",
       "987                35.771254                 59.199041             46.393965  \n",
       "988                40.155536                 62.045575             51.167200  \n",
       "989                40.175904                 61.023565             51.788033  \n",
       "\n",
       "[990 rows x 6 columns]"
      ]
     },
     "execution_count": 77,
     "metadata": {},
     "output_type": "execute_result"
    }
   ],
   "source": [
    "scores = pd.read_csv('scores.csv')\n",
    "\n",
    "per_list = ['field0', 'personality.agreeableness', 'personality.conscientiousness', 'personality.neuroticism', \\\n",
    "            'personality.extraversion', 'personality.openness']\n",
    "\n",
    "df_score = scores[per_list]\n",
    "\n",
    "df_score"
   ]
  },
  {
   "cell_type": "code",
   "execution_count": 78,
   "metadata": {},
   "outputs": [
    {
     "data": {
      "text/plain": [
       "'As advertised. Reasonably priced As advertised. Reasonably priced as advertised as advertised as advertised'"
      ]
     },
     "execution_count": 78,
     "metadata": {},
     "output_type": "execute_result"
    }
   ],
   "source": [
    "user_action['A3CIUOJXQ5VDQ2']"
   ]
  },
  {
   "cell_type": "code",
   "execution_count": 79,
   "metadata": {},
   "outputs": [],
   "source": [
    "import gensim\n",
    "from gensim.models import Word2Vec\n",
    "import multiprocessing\n",
    "\n",
    "corpus = []\n",
    "\n",
    "for user in df_score['field0'].values:\n",
    "    corpus.append(user_action[user].split(\" \"))\n",
    "\n",
    "model = Word2Vec(corpus, window=8, size=300, min_count=1, sg=1, workers=multiprocessing.cpu_count(), seed=2021, iter=15)\n",
    "model.save('lr_wv.model')"
   ]
  },
  {
   "cell_type": "code",
   "execution_count": 80,
   "metadata": {
    "scrolled": true
   },
   "outputs": [],
   "source": [
    "# get features\n",
    "datas = []\n",
    "for user in df_score['field0'].values:\n",
    "    words = user_action[user].split(\" \")\n",
    "    total = [0] * 300\n",
    "    for word in words:\n",
    "        total += model.wv[word]\n",
    "    total = total / len(words)\n",
    "    datas.append(total)\n",
    "\n",
    "# get label\n",
    "cols = ['personality.agreeableness', 'personality.conscientiousness', 'personality.neuroticism', \\\n",
    "            'personality.extraversion', 'personality.openness']\n",
    "labels = df_score[cols].idxmax(axis=1)\n",
    "\n",
    "Y = [cols.index(y) for y in labels]\n",
    "\n",
    "# get processed data\n",
    "train_data = []\n",
    "for i in range(0, len(Y)):\n",
    "    train_data.append((datas[i], Y[i]))"
   ]
  },
  {
   "cell_type": "code",
   "execution_count": 81,
   "metadata": {},
   "outputs": [
    {
     "name": "stdout",
     "output_type": "stream",
     "text": [
      "990\n"
     ]
    }
   ],
   "source": [
    "import random\n",
    "random.shuffle(train_data)\n",
    "print(len(train_data))"
   ]
  },
  {
   "cell_type": "markdown",
   "metadata": {},
   "source": [
    "## 2. Train/Test split"
   ]
  },
  {
   "cell_type": "code",
   "execution_count": 82,
   "metadata": {},
   "outputs": [],
   "source": [
    " #train, test = train_data[:890], train_data[890:]\n",
    "\n",
    "# create a balanced test set\n",
    "train, test = [], []\n",
    "from collections import defaultdict\n",
    "\n",
    "count_num = defaultdict(int)\n",
    "for sample in train_data:\n",
    "    label = sample[1]\n",
    "    if count_num[label]<20:\n",
    "        test.append(sample)\n",
    "        count_num[label] += 1\n",
    "    else:\n",
    "        train.append(sample)\n",
    "        \n",
    "train_x, train_y, test_x, test_y = [], [], [], []\n",
    "for t in train:\n",
    "    train_x.append(t[0])\n",
    "    train_y.append(t[1])\n",
    "for t in test:\n",
    "    test_x.append(t[0])\n",
    "    test_y.append(t[1])"
   ]
  },
  {
   "cell_type": "code",
   "execution_count": 83,
   "metadata": {},
   "outputs": [
    {
     "data": {
      "text/plain": [
       "(Counter({0: 628, 3: 113, 1: 57, 4: 52, 2: 40}),\n",
       " Counter({0: 20, 1: 20, 3: 20, 4: 20, 2: 20}))"
      ]
     },
     "execution_count": 83,
     "metadata": {},
     "output_type": "execute_result"
    }
   ],
   "source": [
    "from collections import Counter\n",
    "Counter(train_y), Counter (test_y)"
   ]
  },
  {
   "cell_type": "markdown",
   "metadata": {},
   "source": [
    "## 3. Up Sampling"
   ]
  },
  {
   "cell_type": "code",
   "execution_count": 84,
   "metadata": {},
   "outputs": [],
   "source": [
    "import imblearn\n",
    "from imblearn.over_sampling import RandomOverSampler\n",
    "from collections import Counter\n",
    "from sklearn.datasets import make_classification"
   ]
  },
  {
   "cell_type": "code",
   "execution_count": 85,
   "metadata": {},
   "outputs": [
    {
     "name": "stdout",
     "output_type": "stream",
     "text": [
      "890\n",
      "890\n",
      "Counter({0: 628, 3: 113, 1: 57, 4: 52, 2: 40})\n",
      "Counter({0: 20, 1: 20, 3: 20, 4: 20, 2: 20})\n"
     ]
    }
   ],
   "source": [
    "print(len(train_x))\n",
    "print(len(train_y))\n",
    "\n",
    "from collections import Counter\n",
    "print(Counter(train_y))\n",
    "print(Counter(test_y))"
   ]
  },
  {
   "cell_type": "code",
   "execution_count": 86,
   "metadata": {},
   "outputs": [],
   "source": [
    "oversample = RandomOverSampler(sampling_strategy='all')\n",
    "\n",
    "train_x_over, train_y_over = oversample.fit_resample(train_x, train_y)"
   ]
  },
  {
   "cell_type": "code",
   "execution_count": 87,
   "metadata": {},
   "outputs": [
    {
     "name": "stdout",
     "output_type": "stream",
     "text": [
      "Counter({0: 628, 3: 628, 1: 628, 4: 628, 2: 628})\n"
     ]
    }
   ],
   "source": [
    "from collections import Counter\n",
    "print(Counter(train_y_over))"
   ]
  },
  {
   "cell_type": "markdown",
   "metadata": {},
   "source": [
    "## 4. Train LR model"
   ]
  },
  {
   "cell_type": "code",
   "execution_count": 88,
   "metadata": {},
   "outputs": [
    {
     "name": "stderr",
     "output_type": "stream",
     "text": [
      "/Users/xinyuanlu/opt/anaconda3/lib/python3.8/site-packages/sklearn/linear_model/_logistic.py:814: ConvergenceWarning: lbfgs failed to converge (status=1):\n",
      "STOP: TOTAL NO. of ITERATIONS REACHED LIMIT.\n",
      "\n",
      "Increase the number of iterations (max_iter) or scale the data as shown in:\n",
      "    https://scikit-learn.org/stable/modules/preprocessing.html\n",
      "Please also refer to the documentation for alternative solver options:\n",
      "    https://scikit-learn.org/stable/modules/linear_model.html#logistic-regression\n",
      "  n_iter_i = _check_optimize_result(\n"
     ]
    },
    {
     "data": {
      "text/plain": [
       "LogisticRegression(C=100000.0)"
      ]
     },
     "execution_count": 88,
     "metadata": {},
     "output_type": "execute_result"
    }
   ],
   "source": [
    "from sklearn.linear_model import LogisticRegression\n",
    "from sklearn.linear_model import LinearRegression\n",
    "\n",
    "classifier = LogisticRegression(C=1e5)\n",
    "\n",
    "classifier.fit(train_x_over, train_y_over)"
   ]
  },
  {
   "cell_type": "code",
   "execution_count": 89,
   "metadata": {},
   "outputs": [],
   "source": [
    "y_predict = classifier.predict(test_x)"
   ]
  },
  {
   "cell_type": "code",
   "execution_count": 90,
   "metadata": {},
   "outputs": [
    {
     "name": "stdout",
     "output_type": "stream",
     "text": [
      "[1 2 0 0 3 0 0 0 0 0 0 1 0 3 3 0 0 0 0 2 0 1 4 0 0 0 0 0 4 4 3 1 1 1 2 0 0\n",
      " 1 1 1 0 0 3 0 2 3 1 0 0 2 2 2 3 0 3 4 3 0 3 0 0 0 0 3 0 2 3 2 2 4 1 1 0 4\n",
      " 0 3 3 0 2 3 2 4 3 4 0 0 0 1 4 0 1 4 1 1 0 1 4 0 1 1]\n",
      "[0, 1, 3, 0, 3, 0, 4, 0, 4, 0, 0, 3, 0, 0, 1, 0, 0, 0, 0, 0, 0, 1, 4, 0, 0, 0, 0, 0, 4, 0, 1, 3, 3, 2, 2, 1, 1, 4, 2, 1, 1, 2, 3, 3, 2, 3, 2, 3, 4, 3, 3, 3, 2, 1, 1, 2, 4, 1, 4, 3, 3, 1, 3, 3, 2, 3, 3, 3, 3, 4, 1, 4, 4, 2, 4, 1, 1, 2, 2, 1, 2, 4, 1, 2, 4, 4, 4, 1, 4, 1, 1, 4, 2, 2, 2, 4, 4, 2, 2, 2]\n"
     ]
    }
   ],
   "source": [
    "print(y_predict)\n",
    "print(test_y)"
   ]
  },
  {
   "cell_type": "code",
   "execution_count": 91,
   "metadata": {},
   "outputs": [
    {
     "name": "stdout",
     "output_type": "stream",
     "text": [
      "[[16  1  1  1  1]\n",
      " [ 7  5  1  7  0]\n",
      " [ 5  7  4  1  3]\n",
      " [ 6  3  6  5  0]\n",
      " [ 8  3  0  2  7]]\n"
     ]
    }
   ],
   "source": [
    "from sklearn.metrics import confusion_matrix\n",
    "cm = confusion_matrix(test_y, y_predict)\n",
    "print(cm)"
   ]
  },
  {
   "cell_type": "code",
   "execution_count": 92,
   "metadata": {},
   "outputs": [
    {
     "name": "stdout",
     "output_type": "stream",
     "text": [
      "              precision    recall  f1-score   support\n",
      "\n",
      "         AGR       0.38      0.80      0.52        20\n",
      "         CON       0.26      0.25      0.26        20\n",
      "         NEU       0.33      0.20      0.25        20\n",
      "         EXT       0.31      0.25      0.28        20\n",
      "        OPEN       0.64      0.35      0.45        20\n",
      "\n",
      "    accuracy                           0.37       100\n",
      "   macro avg       0.39      0.37      0.35       100\n",
      "weighted avg       0.39      0.37      0.35       100\n",
      "\n"
     ]
    }
   ],
   "source": [
    "from sklearn.metrics import classification_report\n",
    "\n",
    "target_names = ['AGR','CON','NEU','EXT','OPEN']\n",
    "print(classification_report(test_y, y_predict, target_names=target_names))"
   ]
  },
  {
   "cell_type": "code",
   "execution_count": 93,
   "metadata": {},
   "outputs": [
    {
     "data": {
      "image/png": "[encoded data removed]",
      "text/plain": [
       "<Figure size 360x360 with 2 Axes>"
      ]
     },
     "metadata": {
      "needs_background": "light"
     },
     "output_type": "display_data"
    }
   ],
   "source": [
    "# create confusion matrix\n",
    "conf_matrix = pd.DataFrame(cm, index = ['AGR','CON','NEU','EXT','OPEN'],columns=['AGR','CON','NEU','EXT','OPEN'])\n",
    "\n",
    "# plot size setting\n",
    "fig, ax = plt.subplots(figsize = (5,5))\n",
    "sns.heatmap(cm, annot=True, annot_kws={\"size\": 19}, cmap=\"Blues\")\n",
    "plt.ylabel('True label', fontsize=18)\n",
    "plt.xlabel('Predicted label', fontsize=18)\n",
    "plt.show()"
   ]
  },
  {
   "cell_type": "code",
   "execution_count": null,
   "metadata": {},
   "outputs": [],
   "source": []
  }
 ],
 "metadata": {
  "kernelspec": {
   "display_name": "Python 3",
   "language": "python",
   "name": "python3"
  },
  "language_info": {
   "codemirror_mode": {
    "name": "ipython",
    "version": 3
   },
   "file_extension": ".py",
   "mimetype": "text/x-python",
   "name": "python",
   "nbconvert_exporter": "python",
   "pygments_lexer": "ipython3",
   "version": "3.8.5"
  }
 },
 "nbformat": 4,
 "nbformat_minor": 5
}
